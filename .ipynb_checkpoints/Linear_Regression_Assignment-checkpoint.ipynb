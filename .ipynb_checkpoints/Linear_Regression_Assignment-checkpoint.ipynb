{
 "cells": [
  {
   "cell_type": "markdown",
   "metadata": {},
   "source": [
    "\n",
    "# Linear Regression\n",
    "\n",
    "Congratulations! You just got some contract work with an Ecommerce company that sells clothing online but they also have in-store style and clothing advice sessions. Customers come in to the store, have sessions/meetings with a personal stylist, then they can go home and order either on a mobile app or website for the clothes they want.\n",
    "\n",
    "The company is trying to decide whether to focus their efforts on their mobile app experience or their website. They've hired you on contract to help them figure it out! Let's get started!\n",
    "\n",
    "Just follow the steps below to analyze the customer data (it's fake, don't worry I didn't give you real credit card numbers or emails)."
   ]
  },
  {
   "cell_type": "markdown",
   "metadata": {},
   "source": [
    "## Imports\n",
    "** Import pandas, numpy, matplotlib,and seaborn. Then set %matplotlib inline \n",
    "(You'll import sklearn as you need it.)**"
   ]
  },
  {
   "cell_type": "code",
   "execution_count": 85,
   "metadata": {},
   "outputs": [],
   "source": [
    "from IPython.display import display, Markdown\n",
    "import pandas as pd\n",
    "import numpy as np\n",
    "import seaborn as sns\n",
    "import matplotlib.pyplot as plt\n",
    "%matplotlib inline"
   ]
  },
  {
   "cell_type": "markdown",
   "metadata": {},
   "source": [
    "## Get the Data\n",
    "\n",
    "We'll work with the Ecommerce Customers csv file from the company. It has Customer info, suchas Email, Address, and their color Avatar. Then it also has numerical value columns:\n",
    "\n",
    "* Avg. Session Length: Average session of in-store style advice sessions.\n",
    "* Time on App: Average time spent on App in minutes\n",
    "* Time on Website: Average time spent on Website in minutes\n",
    "* Length of Membership: How many years the customer has been a member.\n",
    "\n",
    "** 1. Read in the Ecommerce Customers csv file as a DataFrame called customers. __5pts__**"
   ]
  },
  {
   "cell_type": "code",
   "execution_count": 128,
   "metadata": {},
   "outputs": [],
   "source": [
    "ecom = pd.read_csv(\"Ecommerce.csv\")"
   ]
  },
  {
   "cell_type": "markdown",
   "metadata": {},
   "source": [
    "**Check the head of customers, and check out its info() and describe() methods.**"
   ]
  },
  {
   "cell_type": "code",
   "execution_count": 87,
   "metadata": {},
   "outputs": [
    {
     "data": {
      "text/html": [
       "<div>\n",
       "<style scoped>\n",
       "    .dataframe tbody tr th:only-of-type {\n",
       "        vertical-align: middle;\n",
       "    }\n",
       "\n",
       "    .dataframe tbody tr th {\n",
       "        vertical-align: top;\n",
       "    }\n",
       "\n",
       "    .dataframe thead th {\n",
       "        text-align: right;\n",
       "    }\n",
       "</style>\n",
       "<table border=\"1\" class=\"dataframe\">\n",
       "  <thead>\n",
       "    <tr style=\"text-align: right;\">\n",
       "      <th></th>\n",
       "      <th>Email</th>\n",
       "      <th>Address</th>\n",
       "      <th>Avatar</th>\n",
       "      <th>Avg. Session Length</th>\n",
       "      <th>Time on App</th>\n",
       "      <th>Time on Website</th>\n",
       "      <th>Length of Membership</th>\n",
       "      <th>Yearly Amount Spent</th>\n",
       "    </tr>\n",
       "  </thead>\n",
       "  <tbody>\n",
       "    <tr>\n",
       "      <th>0</th>\n",
       "      <td>mstephenson@fernandez.com</td>\n",
       "      <td>835 Frank Tunnel\\nWrightmouth, MI 82180-9605</td>\n",
       "      <td>Violet</td>\n",
       "      <td>34.497268</td>\n",
       "      <td>12.655651</td>\n",
       "      <td>39.577668</td>\n",
       "      <td>4.082621</td>\n",
       "      <td>587.951054</td>\n",
       "    </tr>\n",
       "    <tr>\n",
       "      <th>1</th>\n",
       "      <td>hduke@hotmail.com</td>\n",
       "      <td>4547 Archer Common\\nDiazchester, CA 06566-8576</td>\n",
       "      <td>DarkGreen</td>\n",
       "      <td>31.926272</td>\n",
       "      <td>11.109461</td>\n",
       "      <td>37.268959</td>\n",
       "      <td>2.664034</td>\n",
       "      <td>392.204933</td>\n",
       "    </tr>\n",
       "    <tr>\n",
       "      <th>2</th>\n",
       "      <td>pallen@yahoo.com</td>\n",
       "      <td>24645 Valerie Unions Suite 582\\nCobbborough, D...</td>\n",
       "      <td>Bisque</td>\n",
       "      <td>33.000915</td>\n",
       "      <td>11.330278</td>\n",
       "      <td>37.110597</td>\n",
       "      <td>4.104543</td>\n",
       "      <td>487.547505</td>\n",
       "    </tr>\n",
       "    <tr>\n",
       "      <th>3</th>\n",
       "      <td>riverarebecca@gmail.com</td>\n",
       "      <td>1414 David Throughway\\nPort Jason, OH 22070-1220</td>\n",
       "      <td>SaddleBrown</td>\n",
       "      <td>34.305557</td>\n",
       "      <td>13.717514</td>\n",
       "      <td>36.721283</td>\n",
       "      <td>3.120179</td>\n",
       "      <td>581.852344</td>\n",
       "    </tr>\n",
       "    <tr>\n",
       "      <th>4</th>\n",
       "      <td>mstephens@davidson-herman.com</td>\n",
       "      <td>14023 Rodriguez Passage\\nPort Jacobville, PR 3...</td>\n",
       "      <td>MediumAquaMarine</td>\n",
       "      <td>33.330673</td>\n",
       "      <td>12.795189</td>\n",
       "      <td>37.536653</td>\n",
       "      <td>4.446308</td>\n",
       "      <td>599.406092</td>\n",
       "    </tr>\n",
       "  </tbody>\n",
       "</table>\n",
       "</div>"
      ],
      "text/plain": [
       "                           Email  \\\n",
       "0      mstephenson@fernandez.com   \n",
       "1              hduke@hotmail.com   \n",
       "2               pallen@yahoo.com   \n",
       "3        riverarebecca@gmail.com   \n",
       "4  mstephens@davidson-herman.com   \n",
       "\n",
       "                                             Address            Avatar  \\\n",
       "0       835 Frank Tunnel\\nWrightmouth, MI 82180-9605            Violet   \n",
       "1     4547 Archer Common\\nDiazchester, CA 06566-8576         DarkGreen   \n",
       "2  24645 Valerie Unions Suite 582\\nCobbborough, D...            Bisque   \n",
       "3   1414 David Throughway\\nPort Jason, OH 22070-1220       SaddleBrown   \n",
       "4  14023 Rodriguez Passage\\nPort Jacobville, PR 3...  MediumAquaMarine   \n",
       "\n",
       "   Avg. Session Length  Time on App  Time on Website  Length of Membership  \\\n",
       "0            34.497268    12.655651        39.577668              4.082621   \n",
       "1            31.926272    11.109461        37.268959              2.664034   \n",
       "2            33.000915    11.330278        37.110597              4.104543   \n",
       "3            34.305557    13.717514        36.721283              3.120179   \n",
       "4            33.330673    12.795189        37.536653              4.446308   \n",
       "\n",
       "   Yearly Amount Spent  \n",
       "0           587.951054  \n",
       "1           392.204933  \n",
       "2           487.547505  \n",
       "3           581.852344  \n",
       "4           599.406092  "
      ]
     },
     "execution_count": 87,
     "metadata": {},
     "output_type": "execute_result"
    }
   ],
   "source": [
    "ecom.head()"
   ]
  },
  {
   "cell_type": "code",
   "execution_count": 88,
   "metadata": {},
   "outputs": [
    {
     "data": {
      "text/html": [
       "<div>\n",
       "<style scoped>\n",
       "    .dataframe tbody tr th:only-of-type {\n",
       "        vertical-align: middle;\n",
       "    }\n",
       "\n",
       "    .dataframe tbody tr th {\n",
       "        vertical-align: top;\n",
       "    }\n",
       "\n",
       "    .dataframe thead th {\n",
       "        text-align: right;\n",
       "    }\n",
       "</style>\n",
       "<table border=\"1\" class=\"dataframe\">\n",
       "  <thead>\n",
       "    <tr style=\"text-align: right;\">\n",
       "      <th></th>\n",
       "      <th>Avg. Session Length</th>\n",
       "      <th>Time on App</th>\n",
       "      <th>Time on Website</th>\n",
       "      <th>Length of Membership</th>\n",
       "      <th>Yearly Amount Spent</th>\n",
       "    </tr>\n",
       "  </thead>\n",
       "  <tbody>\n",
       "    <tr>\n",
       "      <th>count</th>\n",
       "      <td>500.000000</td>\n",
       "      <td>500.000000</td>\n",
       "      <td>500.000000</td>\n",
       "      <td>500.000000</td>\n",
       "      <td>500.000000</td>\n",
       "    </tr>\n",
       "    <tr>\n",
       "      <th>mean</th>\n",
       "      <td>33.053194</td>\n",
       "      <td>12.052488</td>\n",
       "      <td>37.060445</td>\n",
       "      <td>3.533462</td>\n",
       "      <td>499.314038</td>\n",
       "    </tr>\n",
       "    <tr>\n",
       "      <th>std</th>\n",
       "      <td>0.992563</td>\n",
       "      <td>0.994216</td>\n",
       "      <td>1.010489</td>\n",
       "      <td>0.999278</td>\n",
       "      <td>79.314782</td>\n",
       "    </tr>\n",
       "    <tr>\n",
       "      <th>min</th>\n",
       "      <td>29.532429</td>\n",
       "      <td>8.508152</td>\n",
       "      <td>33.913847</td>\n",
       "      <td>0.269901</td>\n",
       "      <td>256.670582</td>\n",
       "    </tr>\n",
       "    <tr>\n",
       "      <th>25%</th>\n",
       "      <td>32.341822</td>\n",
       "      <td>11.388153</td>\n",
       "      <td>36.349257</td>\n",
       "      <td>2.930450</td>\n",
       "      <td>445.038277</td>\n",
       "    </tr>\n",
       "    <tr>\n",
       "      <th>50%</th>\n",
       "      <td>33.082008</td>\n",
       "      <td>11.983231</td>\n",
       "      <td>37.069367</td>\n",
       "      <td>3.533975</td>\n",
       "      <td>498.887875</td>\n",
       "    </tr>\n",
       "    <tr>\n",
       "      <th>75%</th>\n",
       "      <td>33.711985</td>\n",
       "      <td>12.753850</td>\n",
       "      <td>37.716432</td>\n",
       "      <td>4.126502</td>\n",
       "      <td>549.313828</td>\n",
       "    </tr>\n",
       "    <tr>\n",
       "      <th>max</th>\n",
       "      <td>36.139662</td>\n",
       "      <td>15.126994</td>\n",
       "      <td>40.005182</td>\n",
       "      <td>6.922689</td>\n",
       "      <td>765.518462</td>\n",
       "    </tr>\n",
       "  </tbody>\n",
       "</table>\n",
       "</div>"
      ],
      "text/plain": [
       "       Avg. Session Length  Time on App  Time on Website  \\\n",
       "count           500.000000   500.000000       500.000000   \n",
       "mean             33.053194    12.052488        37.060445   \n",
       "std               0.992563     0.994216         1.010489   \n",
       "min              29.532429     8.508152        33.913847   \n",
       "25%              32.341822    11.388153        36.349257   \n",
       "50%              33.082008    11.983231        37.069367   \n",
       "75%              33.711985    12.753850        37.716432   \n",
       "max              36.139662    15.126994        40.005182   \n",
       "\n",
       "       Length of Membership  Yearly Amount Spent  \n",
       "count            500.000000           500.000000  \n",
       "mean               3.533462           499.314038  \n",
       "std                0.999278            79.314782  \n",
       "min                0.269901           256.670582  \n",
       "25%                2.930450           445.038277  \n",
       "50%                3.533975           498.887875  \n",
       "75%                4.126502           549.313828  \n",
       "max                6.922689           765.518462  "
      ]
     },
     "execution_count": 88,
     "metadata": {},
     "output_type": "execute_result"
    }
   ],
   "source": [
    "ecom.describe()"
   ]
  },
  {
   "cell_type": "code",
   "execution_count": 89,
   "metadata": {},
   "outputs": [
    {
     "name": "stdout",
     "output_type": "stream",
     "text": [
      "<class 'pandas.core.frame.DataFrame'>\n",
      "RangeIndex: 500 entries, 0 to 499\n",
      "Data columns (total 8 columns):\n",
      "Email                   500 non-null object\n",
      "Address                 500 non-null object\n",
      "Avatar                  500 non-null object\n",
      "Avg. Session Length     500 non-null float64\n",
      "Time on App             500 non-null float64\n",
      "Time on Website         500 non-null float64\n",
      "Length of Membership    500 non-null float64\n",
      "Yearly Amount Spent     500 non-null float64\n",
      "dtypes: float64(5), object(3)\n",
      "memory usage: 31.3+ KB\n"
     ]
    }
   ],
   "source": [
    "ecom.info()"
   ]
  },
  {
   "cell_type": "markdown",
   "metadata": {},
   "source": [
    "## Exploratory Data Analysis\n",
    "\n",
    "**Let's explore the data!**\n",
    "\n",
    "For the rest of the exercise we'll only be using the numerical data of the csv file.\n",
    "___\n",
    "**2. Use seaborn to create a jointplot to compare the Time on Website and Yearly Amount Spent columns. Does the correlation make sense?**\n",
    "5pts"
   ]
  },
  {
   "cell_type": "code",
   "execution_count": 90,
   "metadata": {
    "scrolled": true
   },
   "outputs": [
    {
     "name": "stderr",
     "output_type": "stream",
     "text": [
      "/home/tiendo/anaconda3/lib/python3.7/site-packages/scipy/stats/stats.py:1713: FutureWarning: Using a non-tuple sequence for multidimensional indexing is deprecated; use `arr[tuple(seq)]` instead of `arr[seq]`. In the future this will be interpreted as an array index, `arr[np.array(seq)]`, which will result either in an error or a different result.\n",
      "  return np.add.reduce(sorted[indexer] * weights, axis=axis) / sumval\n"
     ]
    },
    {
     "data": {
      "text/plain": [
       "<seaborn.axisgrid.JointGrid at 0x7fb48cc71e80>"
      ]
     },
     "execution_count": 90,
     "metadata": {},
     "output_type": "execute_result"
    },
    {
     "data": {
      "image/png": "[encoded data removed]",
      "text/plain": [
       "<Figure size 432x432 with 3 Axes>"
      ]
     },
     "metadata": {
      "needs_background": "light"
     },
     "output_type": "display_data"
    }
   ],
   "source": [
    "sns.jointplot(x='Time on Website', y='Yearly Amount Spent', data=ecom)"
   ]
  },
  {
   "cell_type": "code",
   "execution_count": 91,
   "metadata": {},
   "outputs": [
    {
     "data": {
      "text/markdown": [
       "**Yes, the correlation makes sense and it seems that the customers spend most when they spend 36 to 39 minutes on the website.**"
      ],
      "text/plain": [
       "<IPython.core.display.Markdown object>"
      ]
     },
     "metadata": {},
     "output_type": "display_data"
    }
   ],
   "source": [
    "display(Markdown(\"**Yes, the correlation makes sense and it seems that the customers spend most when they spend 36 to 39 minutes on the website.**\"))"
   ]
  },
  {
   "cell_type": "markdown",
   "metadata": {},
   "source": [
    "** 3. Do the same but with the Time on App column instead. **\n",
    "5pts"
   ]
  },
  {
   "cell_type": "code",
   "execution_count": 92,
   "metadata": {},
   "outputs": [
    {
     "name": "stderr",
     "output_type": "stream",
     "text": [
      "/home/tiendo/anaconda3/lib/python3.7/site-packages/scipy/stats/stats.py:1713: FutureWarning: Using a non-tuple sequence for multidimensional indexing is deprecated; use `arr[tuple(seq)]` instead of `arr[seq]`. In the future this will be interpreted as an array index, `arr[np.array(seq)]`, which will result either in an error or a different result.\n",
      "  return np.add.reduce(sorted[indexer] * weights, axis=axis) / sumval\n"
     ]
    },
    {
     "data": {
      "text/plain": [
       "<seaborn.axisgrid.JointGrid at 0x7fb48cba2fd0>"
      ]
     },
     "execution_count": 92,
     "metadata": {},
     "output_type": "execute_result"
    },
    {
     "data": {
      "image/png": "[encoded data removed]",
      "text/plain": [
       "<Figure size 432x432 with 3 Axes>"
      ]
     },
     "metadata": {
      "needs_background": "light"
     },
     "output_type": "display_data"
    }
   ],
   "source": [
    "sns.jointplot(x='Time on App', y='Yearly Amount Spent', data=ecom)"
   ]
  },
  {
   "cell_type": "markdown",
   "metadata": {},
   "source": [
    "** 4. Use jointplot to create a 2D hex bin plot comparing Time on App and Length of Membership.**\n",
    "5pts\n",
    "\n",
    "keyword: seaborn, jointplot, kind='hex'"
   ]
  },
  {
   "cell_type": "code",
   "execution_count": 93,
   "metadata": {
    "scrolled": true
   },
   "outputs": [
    {
     "name": "stderr",
     "output_type": "stream",
     "text": [
      "/home/tiendo/anaconda3/lib/python3.7/site-packages/scipy/stats/stats.py:1713: FutureWarning: Using a non-tuple sequence for multidimensional indexing is deprecated; use `arr[tuple(seq)]` instead of `arr[seq]`. In the future this will be interpreted as an array index, `arr[np.array(seq)]`, which will result either in an error or a different result.\n",
      "  return np.add.reduce(sorted[indexer] * weights, axis=axis) / sumval\n"
     ]
    },
    {
     "data": {
      "text/plain": [
       "<seaborn.axisgrid.JointGrid at 0x7fb48d7b7e80>"
      ]
     },
     "execution_count": 93,
     "metadata": {},
     "output_type": "execute_result"
    },
    {
     "data": {
      "image/png": "[encoded data removed]",
      "text/plain": [
       "<Figure size 432x432 with 3 Axes>"
      ]
     },
     "metadata": {
      "needs_background": "light"
     },
     "output_type": "display_data"
    }
   ],
   "source": [
    "sns.jointplot(x='Time on App', y='Length of Membership', data=ecom, kind='hex')"
   ]
  },
  {
   "cell_type": "markdown",
   "metadata": {},
   "source": [
    "**5. Let's explore correlation across the entire data set. Use [heatmap](https://tryolabs.com/blog/2017/03/16/pandas-seaborn-a-guide-to-handle-visualize-data-elegantly/) to create the chart which represents correlation between each columns.(Don't worry about the the colors)**\n",
    "5pts"
   ]
  },
  {
   "cell_type": "code",
   "execution_count": 94,
   "metadata": {},
   "outputs": [
    {
     "data": {
      "text/plain": [
       "<matplotlib.axes._subplots.AxesSubplot at 0x7fb48c9e30f0>"
      ]
     },
     "execution_count": 94,
     "metadata": {},
     "output_type": "execute_result"
    },
    {
     "data": {
      "image/png": "[encoded data removed]",
      "text/plain": [
       "<Figure size 432x288 with 2 Axes>"
      ]
     },
     "metadata": {
      "needs_background": "light"
     },
     "output_type": "display_data"
    }
   ],
   "source": [
    "# Optional\n",
    "# Hint: pandas.corr(), sns.heatmap\n",
    "ecom = ecom.corr()\n",
    "sns.heatmap(ecom)"
   ]
  },
  {
   "cell_type": "markdown",
   "metadata": {},
   "source": [
    "**6. Based off this plot what looks to be the most correlated feature with Yearly Amount Spent?**\n",
    "5pts"
   ]
  },
  {
   "cell_type": "code",
   "execution_count": 95,
   "metadata": {},
   "outputs": [
    {
     "data": {
      "text/markdown": [
       "The most correlated feature with Yearly Amount Spent is **Length of Membership**"
      ],
      "text/plain": [
       "<IPython.core.display.Markdown object>"
      ]
     },
     "metadata": {},
     "output_type": "display_data"
    }
   ],
   "source": [
    "display(Markdown(\"The most correlated feature with Yearly Amount Spent is **Length of Membership**\"))"
   ]
  },
  {
   "cell_type": "markdown",
   "metadata": {},
   "source": [
    "**7. Create a linear model plot (using seaborn's lmplot) of  Yearly Amount Spent vs. Length of Membership. **\n",
    "5pts"
   ]
  },
  {
   "cell_type": "code",
   "execution_count": 96,
   "metadata": {},
   "outputs": [
    {
     "name": "stderr",
     "output_type": "stream",
     "text": [
      "/home/tiendo/anaconda3/lib/python3.7/site-packages/scipy/stats/stats.py:1713: FutureWarning: Using a non-tuple sequence for multidimensional indexing is deprecated; use `arr[tuple(seq)]` instead of `arr[seq]`. In the future this will be interpreted as an array index, `arr[np.array(seq)]`, which will result either in an error or a different result.\n",
      "  return np.add.reduce(sorted[indexer] * weights, axis=axis) / sumval\n"
     ]
    },
    {
     "data": {
      "image/png": "[encoded data removed]",
      "text/plain": [
       "<Figure size 360x360 with 1 Axes>"
      ]
     },
     "metadata": {
      "needs_background": "light"
     },
     "output_type": "display_data"
    }
   ],
   "source": [
    "sns.lmplot(x=\"Yearly Amount Spent\", y=\"Length of Membership\", data=ecom);"
   ]
  },
  {
   "cell_type": "markdown",
   "metadata": {},
   "source": [
    "## Training and Testing Data\n",
    "\n",
    "**8.** Now that we've explored the data a bit, let's go ahead and split the data into training and testing sets.\n",
    "** Set a variable X equal to the numerical features of the customers and a variable y equal to the \"Yearly Amount Spent\" column. **\n",
    "5pts"
   ]
  },
  {
   "cell_type": "code",
   "execution_count": 142,
   "metadata": {},
   "outputs": [
    {
     "name": "stdout",
     "output_type": "stream",
     "text": [
      "0      587.951054\n",
      "1      392.204933\n",
      "2      487.547505\n",
      "3      581.852344\n",
      "4      599.406092\n",
      "5      637.102448\n",
      "6      521.572175\n",
      "7      549.904146\n",
      "8      570.200409\n",
      "9      427.199385\n",
      "10     492.606013\n",
      "11     522.337405\n",
      "12     408.640351\n",
      "13     573.415867\n",
      "14     470.452733\n",
      "15     461.780742\n",
      "16     457.847696\n",
      "17     407.704548\n",
      "18     452.315675\n",
      "19     605.061039\n",
      "20     534.705744\n",
      "21     419.938775\n",
      "22     436.515606\n",
      "23     519.340989\n",
      "24     700.917092\n",
      "25     423.179992\n",
      "26     619.895640\n",
      "27     486.838935\n",
      "28     529.537665\n",
      "29     554.722084\n",
      "          ...    \n",
      "470    424.728774\n",
      "471    541.049831\n",
      "472    469.383146\n",
      "473    444.545550\n",
      "474    492.556834\n",
      "475    535.321610\n",
      "476    408.958336\n",
      "477    487.555458\n",
      "478    487.646232\n",
      "479    402.167122\n",
      "480    551.023002\n",
      "481    497.389558\n",
      "482    494.638610\n",
      "483    479.247417\n",
      "484    462.656519\n",
      "485    515.502480\n",
      "486    576.477607\n",
      "487    357.857984\n",
      "488    597.739879\n",
      "489    327.377953\n",
      "490    510.401388\n",
      "491    510.501478\n",
      "492    403.819520\n",
      "493    627.603319\n",
      "494    510.661792\n",
      "495    573.847438\n",
      "496    529.049004\n",
      "497    551.620145\n",
      "498    456.469510\n",
      "499    497.778642\n",
      "Name: Yearly Amount Spent, Length: 500, dtype: float64\n"
     ]
    }
   ],
   "source": [
    "y = ecom['Yearly Amount Spent']\n",
    "print(y)"
   ]
  },
  {
   "cell_type": "code",
   "execution_count": 176,
   "metadata": {},
   "outputs": [],
   "source": [
    "X = ecom[['Avg. Session Length', 'Time on App', 'Time on Website', 'Length of Membership']]"
   ]
  },
  {
   "cell_type": "markdown",
   "metadata": {},
   "source": [
    "**9. Use model_selection.train_test_split from sklearn to split the data into training and testing sets. Set test_size=0.3 and random_state=101**\n",
    "5pts"
   ]
  },
  {
   "cell_type": "code",
   "execution_count": 145,
   "metadata": {},
   "outputs": [],
   "source": [
    "from sklearn.model_selection import train_test_split"
   ]
  },
  {
   "cell_type": "code",
   "execution_count": 151,
   "metadata": {},
   "outputs": [],
   "source": [
    "X_train, X_test, y_train, y_test = train_test_split(X, y, test_size=0.3, random_state=101)"
   ]
  },
  {
   "cell_type": "markdown",
   "metadata": {},
   "source": [
    "## Training the Model\n",
    "\n",
    "Now its time to train our model on our training data!\n",
    "\n",
    "**10. Import LinearRegression from sklearn.linear_model **\n",
    "5pts"
   ]
  },
  {
   "cell_type": "code",
   "execution_count": 154,
   "metadata": {},
   "outputs": [],
   "source": [
    "from sklearn.linear_model import LinearRegression"
   ]
  },
  {
   "cell_type": "markdown",
   "metadata": {},
   "source": [
    "**11. Create an instance of a LinearRegression() model named lm.**\n",
    "5pts"
   ]
  },
  {
   "cell_type": "code",
   "execution_count": 153,
   "metadata": {},
   "outputs": [],
   "source": [
    "lm = LinearRegression()"
   ]
  },
  {
   "cell_type": "markdown",
   "metadata": {},
   "source": [
    "**12. Train/fit lm on the training data.**\n",
    "5pts"
   ]
  },
  {
   "cell_type": "code",
   "execution_count": 156,
   "metadata": {},
   "outputs": [
    {
     "data": {
      "text/plain": [
       "LinearRegression(copy_X=True, fit_intercept=True, n_jobs=None,\n",
       "         normalize=False)"
      ]
     },
     "execution_count": 156,
     "metadata": {},
     "output_type": "execute_result"
    }
   ],
   "source": [
    "lm.fit(X_train, y_train)"
   ]
  },
  {
   "cell_type": "markdown",
   "metadata": {},
   "source": [
    "**13. Print out the coefficients of the model**\n",
    "5pts"
   ]
  },
  {
   "cell_type": "code",
   "execution_count": 157,
   "metadata": {},
   "outputs": [
    {
     "name": "stdout",
     "output_type": "stream",
     "text": [
      "[25.98154972 38.59015875  0.19040528 61.27909654]\n"
     ]
    }
   ],
   "source": [
    "# Hint: coef_\n",
    "print(lm.coef_)"
   ]
  },
  {
   "cell_type": "markdown",
   "metadata": {},
   "source": [
    "## Predicting Test Data\n",
    "Now that we have fit our model, let's evaluate its performance by predicting off the test values!\n",
    "\n",
    "**14. Use lm.predict() to predict off the X_test set of the data.**\n",
    "5pts"
   ]
  },
  {
   "cell_type": "code",
   "execution_count": 160,
   "metadata": {},
   "outputs": [],
   "source": [
    "test_prediction = lm.predict(X_test)"
   ]
  },
  {
   "cell_type": "markdown",
   "metadata": {},
   "source": [
    "**15. Create a scatterplot of the real test values versus the predicted values. **\n",
    "5pts"
   ]
  },
  {
   "cell_type": "code",
   "execution_count": 172,
   "metadata": {},
   "outputs": [
    {
     "data": {
      "image/png": "[encoded data removed]",
      "text/plain": [
       "<Figure size 1440x720 with 1 Axes>"
      ]
     },
     "metadata": {
      "needs_background": "light"
     },
     "output_type": "display_data"
    }
   ],
   "source": [
    "plt.figure(figsize=(20, 10))\n",
    "plt.scatter(test_prediction, y_test, color='green')\n",
    "plt.xlabel(\"Predictions\")\n",
    "plt.ylabel(\"True Values\")\n",
    "plt.show()"
   ]
  },
  {
   "cell_type": "markdown",
   "metadata": {},
   "source": [
    "## Evaluating the Model\n",
    "\n",
    "Let's evaluate our model performance by calculating the residual sum of squares.\n",
    "\n",
    "**16. Calculate: Calculate the Mean Absolute Error, Mean Squared Error, and the Root Mean Squared Error**\n",
    "10pts\n",
    "\n",
    "Note: Refer to those links for the formulas\n",
    "\n",
    "[Mean Absolute Error(MAE)](https://en.wikipedia.org/wiki/Mean_absolute_error)\n",
    "\n",
    "[Mean Squared Error(MSE)](https://en.wikipedia.org/wiki/Mean_squared_error)\n",
    "\n",
    "[Root Mean Squared Error(RMSE)]()\n",
    "\n",
    "Reference\n",
    "\n",
    "[MAE and RMSE](https://medium.com/human-in-a-machine-world/mae-and-rmse-which-metric-is-better-e60ac3bde13d)"
   ]
  },
  {
   "cell_type": "code",
   "execution_count": 170,
   "metadata": {},
   "outputs": [
    {
     "data": {
      "text/markdown": [
       "**MAE**: "
      ],
      "text/plain": [
       "<IPython.core.display.Markdown object>"
      ]
     },
     "metadata": {},
     "output_type": "display_data"
    },
    {
     "data": {
      "text/plain": [
       "7.228148653430853"
      ]
     },
     "metadata": {},
     "output_type": "display_data"
    },
    {
     "data": {
      "text/markdown": [
       "**MQE**: "
      ],
      "text/plain": [
       "<IPython.core.display.Markdown object>"
      ]
     },
     "metadata": {},
     "output_type": "display_data"
    },
    {
     "data": {
      "text/plain": [
       "79.81305165097487"
      ]
     },
     "metadata": {},
     "output_type": "display_data"
    },
    {
     "data": {
      "text/markdown": [
       "**RMQE**: "
      ],
      "text/plain": [
       "<IPython.core.display.Markdown object>"
      ]
     },
     "metadata": {},
     "output_type": "display_data"
    },
    {
     "data": {
      "text/plain": [
       "8.933815066978656"
      ]
     },
     "metadata": {},
     "output_type": "display_data"
    }
   ],
   "source": [
    "from sklearn.metrics import mean_absolute_error\n",
    "from sklearn.metrics import mean_squared_error\n",
    "import math\n",
    "\n",
    "display(Markdown(\"**MAE**: \"), mean_absolute_error(y_test, test_prediction))\n",
    "MQE = mean_squared_error(y_test, test_prediction)\n",
    "display(Markdown(\"**MQE**: \"), MQE)\n",
    "display(Markdown(\"**RMQE**: \"), math.sqrt(MQE))"
   ]
  },
  {
   "cell_type": "markdown",
   "metadata": {},
   "source": [
    "## Residuals\n",
    "\n",
    "You should have gotten a very good model with a good fit. Let's quickly explore the residuals to make sure everything was okay with our data. \n",
    "\n",
    "**17. Plot a histogram of the residuals and make sure it looks normally distributed. Use either seaborn distplot, or just plt.hist().**\n",
    "10pts"
   ]
  },
  {
   "cell_type": "code",
   "execution_count": 173,
   "metadata": {},
   "outputs": [
    {
     "data": {
      "text/plain": [
       "(array([ 1.,  1.,  5., 25., 27., 36., 34., 15.,  5.,  1.]),\n",
       " array([-29.99857192, -24.30314166, -18.6077114 , -12.91228113,\n",
       "         -7.21685087,  -1.5214206 ,   4.17400966,   9.86943992,\n",
       "         15.56487019,  21.26030045,  26.95573072]),\n",
       " <a list of 10 Patch objects>)"
      ]
     },
     "execution_count": 173,
     "metadata": {},
     "output_type": "execute_result"
    },
    {
     "data": {
      "image/png": "[encoded data removed]",
      "text/plain": [
       "<Figure size 432x288 with 1 Axes>"
      ]
     },
     "metadata": {
      "needs_background": "light"
     },
     "output_type": "display_data"
    }
   ],
   "source": [
    "plt.hist((test_prediction - y_test))"
   ]
  },
  {
   "cell_type": "markdown",
   "metadata": {},
   "source": [
    "## Conclusion\n",
    "We still want to figure out the answer to the original question, do we focus our efforts on mobile app or website development? Or maybe that doesn't even really matter, and Membership Time is what is really important.  Let's see if we can interpret the coefficients at all to get an idea.\n",
    "\n",
    "**18. Recreate the dataframe below. **\n",
    "10pts"
   ]
  },
  {
   "cell_type": "code",
   "execution_count": 186,
   "metadata": {},
   "outputs": [
    {
     "data": {
      "text/html": [
       "<div>\n",
       "<style scoped>\n",
       "    .dataframe tbody tr th:only-of-type {\n",
       "        vertical-align: middle;\n",
       "    }\n",
       "\n",
       "    .dataframe tbody tr th {\n",
       "        vertical-align: top;\n",
       "    }\n",
       "\n",
       "    .dataframe thead th {\n",
       "        text-align: right;\n",
       "    }\n",
       "</style>\n",
       "<table border=\"1\" class=\"dataframe\">\n",
       "  <thead>\n",
       "    <tr style=\"text-align: right;\">\n",
       "      <th></th>\n",
       "      <th>Email</th>\n",
       "      <th>Address</th>\n",
       "      <th>Avatar</th>\n",
       "      <th>Avg. Session Length</th>\n",
       "      <th>Time on App</th>\n",
       "      <th>Time on Website</th>\n",
       "      <th>Length of Membership</th>\n",
       "      <th>Yearly Amount Spent</th>\n",
       "    </tr>\n",
       "  </thead>\n",
       "  <tbody>\n",
       "    <tr>\n",
       "      <th>0</th>\n",
       "      <td>mstephenson@fernandez.com</td>\n",
       "      <td>835 Frank Tunnel\\nWrightmouth, MI 82180-9605</td>\n",
       "      <td>Violet</td>\n",
       "      <td>34.497268</td>\n",
       "      <td>12.655651</td>\n",
       "      <td>39.577668</td>\n",
       "      <td>4.082621</td>\n",
       "      <td>587.951054</td>\n",
       "    </tr>\n",
       "    <tr>\n",
       "      <th>1</th>\n",
       "      <td>hduke@hotmail.com</td>\n",
       "      <td>4547 Archer Common\\nDiazchester, CA 06566-8576</td>\n",
       "      <td>DarkGreen</td>\n",
       "      <td>31.926272</td>\n",
       "      <td>11.109461</td>\n",
       "      <td>37.268959</td>\n",
       "      <td>2.664034</td>\n",
       "      <td>392.204933</td>\n",
       "    </tr>\n",
       "    <tr>\n",
       "      <th>2</th>\n",
       "      <td>pallen@yahoo.com</td>\n",
       "      <td>24645 Valerie Unions Suite 582\\nCobbborough, D...</td>\n",
       "      <td>Bisque</td>\n",
       "      <td>33.000915</td>\n",
       "      <td>11.330278</td>\n",
       "      <td>37.110597</td>\n",
       "      <td>4.104543</td>\n",
       "      <td>487.547505</td>\n",
       "    </tr>\n",
       "    <tr>\n",
       "      <th>3</th>\n",
       "      <td>riverarebecca@gmail.com</td>\n",
       "      <td>1414 David Throughway\\nPort Jason, OH 22070-1220</td>\n",
       "      <td>SaddleBrown</td>\n",
       "      <td>34.305557</td>\n",
       "      <td>13.717514</td>\n",
       "      <td>36.721283</td>\n",
       "      <td>3.120179</td>\n",
       "      <td>581.852344</td>\n",
       "    </tr>\n",
       "    <tr>\n",
       "      <th>4</th>\n",
       "      <td>mstephens@davidson-herman.com</td>\n",
       "      <td>14023 Rodriguez Passage\\nPort Jacobville, PR 3...</td>\n",
       "      <td>MediumAquaMarine</td>\n",
       "      <td>33.330673</td>\n",
       "      <td>12.795189</td>\n",
       "      <td>37.536653</td>\n",
       "      <td>4.446308</td>\n",
       "      <td>599.406092</td>\n",
       "    </tr>\n",
       "    <tr>\n",
       "      <th>5</th>\n",
       "      <td>alvareznancy@lucas.biz</td>\n",
       "      <td>645 Martha Park Apt. 611\\nJeffreychester, MN 6...</td>\n",
       "      <td>FloralWhite</td>\n",
       "      <td>33.871038</td>\n",
       "      <td>12.026925</td>\n",
       "      <td>34.476878</td>\n",
       "      <td>5.493507</td>\n",
       "      <td>637.102448</td>\n",
       "    </tr>\n",
       "    <tr>\n",
       "      <th>6</th>\n",
       "      <td>katherine20@yahoo.com</td>\n",
       "      <td>68388 Reyes Lights Suite 692\\nJosephbury, WV 9...</td>\n",
       "      <td>DarkSlateBlue</td>\n",
       "      <td>32.021596</td>\n",
       "      <td>11.366348</td>\n",
       "      <td>36.683776</td>\n",
       "      <td>4.685017</td>\n",
       "      <td>521.572175</td>\n",
       "    </tr>\n",
       "    <tr>\n",
       "      <th>7</th>\n",
       "      <td>awatkins@yahoo.com</td>\n",
       "      <td>Unit 6538 Box 8980\\nDPO AP 09026-4941</td>\n",
       "      <td>Aqua</td>\n",
       "      <td>32.739143</td>\n",
       "      <td>12.351959</td>\n",
       "      <td>37.373359</td>\n",
       "      <td>4.434273</td>\n",
       "      <td>549.904146</td>\n",
       "    </tr>\n",
       "    <tr>\n",
       "      <th>8</th>\n",
       "      <td>vchurch@walter-martinez.com</td>\n",
       "      <td>860 Lee Key\\nWest Debra, SD 97450-0495</td>\n",
       "      <td>Salmon</td>\n",
       "      <td>33.987773</td>\n",
       "      <td>13.386235</td>\n",
       "      <td>37.534497</td>\n",
       "      <td>3.273434</td>\n",
       "      <td>570.200409</td>\n",
       "    </tr>\n",
       "    <tr>\n",
       "      <th>9</th>\n",
       "      <td>bonnie69@lin.biz</td>\n",
       "      <td>PSC 2734, Box 5255\\nAPO AA 98456-7482</td>\n",
       "      <td>Brown</td>\n",
       "      <td>31.936549</td>\n",
       "      <td>11.814128</td>\n",
       "      <td>37.145168</td>\n",
       "      <td>3.202806</td>\n",
       "      <td>427.199385</td>\n",
       "    </tr>\n",
       "    <tr>\n",
       "      <th>10</th>\n",
       "      <td>andrew06@peterson.com</td>\n",
       "      <td>26104 Alexander Groves\\nAlexandriaport, WY 282...</td>\n",
       "      <td>Tomato</td>\n",
       "      <td>33.992573</td>\n",
       "      <td>13.338975</td>\n",
       "      <td>37.225806</td>\n",
       "      <td>2.482608</td>\n",
       "      <td>492.606013</td>\n",
       "    </tr>\n",
       "    <tr>\n",
       "      <th>11</th>\n",
       "      <td>ryanwerner@freeman.biz</td>\n",
       "      <td>Unit 2413 Box 0347\\nDPO AA 07580-2652</td>\n",
       "      <td>Tomato</td>\n",
       "      <td>33.879361</td>\n",
       "      <td>11.584783</td>\n",
       "      <td>37.087926</td>\n",
       "      <td>3.713209</td>\n",
       "      <td>522.337405</td>\n",
       "    </tr>\n",
       "    <tr>\n",
       "      <th>12</th>\n",
       "      <td>knelson@gmail.com</td>\n",
       "      <td>6705 Miller Orchard Suite 186\\nLake Shanestad,...</td>\n",
       "      <td>RoyalBlue</td>\n",
       "      <td>29.532429</td>\n",
       "      <td>10.961298</td>\n",
       "      <td>37.420216</td>\n",
       "      <td>4.046423</td>\n",
       "      <td>408.640351</td>\n",
       "    </tr>\n",
       "    <tr>\n",
       "      <th>13</th>\n",
       "      <td>wrightpeter@yahoo.com</td>\n",
       "      <td>05302 Dunlap Ferry\\nNew Stephaniehaven, MP 42268</td>\n",
       "      <td>Bisque</td>\n",
       "      <td>33.190334</td>\n",
       "      <td>12.959226</td>\n",
       "      <td>36.144667</td>\n",
       "      <td>3.918542</td>\n",
       "      <td>573.415867</td>\n",
       "    </tr>\n",
       "    <tr>\n",
       "      <th>14</th>\n",
       "      <td>taylormason@gmail.com</td>\n",
       "      <td>7773 Powell Springs Suite 190\\nSamanthaland, N...</td>\n",
       "      <td>DarkBlue</td>\n",
       "      <td>32.387976</td>\n",
       "      <td>13.148726</td>\n",
       "      <td>36.619957</td>\n",
       "      <td>2.494544</td>\n",
       "      <td>470.452733</td>\n",
       "    </tr>\n",
       "    <tr>\n",
       "      <th>15</th>\n",
       "      <td>jstark@anderson.com</td>\n",
       "      <td>49558 Ramirez Road Suite 399\\nPhillipstad, OH ...</td>\n",
       "      <td>Peru</td>\n",
       "      <td>30.737720</td>\n",
       "      <td>12.636606</td>\n",
       "      <td>36.213763</td>\n",
       "      <td>3.357847</td>\n",
       "      <td>461.780742</td>\n",
       "    </tr>\n",
       "    <tr>\n",
       "      <th>16</th>\n",
       "      <td>wjennings@gmail.com</td>\n",
       "      <td>6362 Wilson Mountain\\nJohnsonfurt, GA 15169</td>\n",
       "      <td>PowderBlue</td>\n",
       "      <td>32.125387</td>\n",
       "      <td>11.733862</td>\n",
       "      <td>34.894093</td>\n",
       "      <td>3.136133</td>\n",
       "      <td>457.847696</td>\n",
       "    </tr>\n",
       "    <tr>\n",
       "      <th>17</th>\n",
       "      <td>rebecca45@hale-bauer.biz</td>\n",
       "      <td>8982 Burton Row\\nWilsonton, PW 88606</td>\n",
       "      <td>OliveDrab</td>\n",
       "      <td>32.338899</td>\n",
       "      <td>12.013195</td>\n",
       "      <td>38.385137</td>\n",
       "      <td>2.420806</td>\n",
       "      <td>407.704548</td>\n",
       "    </tr>\n",
       "    <tr>\n",
       "      <th>18</th>\n",
       "      <td>alejandro75@hotmail.com</td>\n",
       "      <td>64475 Andre Club Apt. 795\\nPort Dannytown, PW ...</td>\n",
       "      <td>Cyan</td>\n",
       "      <td>32.187812</td>\n",
       "      <td>14.715388</td>\n",
       "      <td>38.244115</td>\n",
       "      <td>1.516576</td>\n",
       "      <td>452.315675</td>\n",
       "    </tr>\n",
       "    <tr>\n",
       "      <th>19</th>\n",
       "      <td>samuel46@love-west.net</td>\n",
       "      <td>544 Alexander Heights Suite 768\\nNorth Johnvie...</td>\n",
       "      <td>LightSeaGreen</td>\n",
       "      <td>32.617856</td>\n",
       "      <td>13.989593</td>\n",
       "      <td>37.190504</td>\n",
       "      <td>4.064549</td>\n",
       "      <td>605.061039</td>\n",
       "    </tr>\n",
       "    <tr>\n",
       "      <th>20</th>\n",
       "      <td>megan33@gmail.com</td>\n",
       "      <td>84426 Julia Vista\\nNorth Teresa, KY 50756</td>\n",
       "      <td>PeachPuff</td>\n",
       "      <td>32.912785</td>\n",
       "      <td>11.365492</td>\n",
       "      <td>37.607793</td>\n",
       "      <td>4.599937</td>\n",
       "      <td>534.705744</td>\n",
       "    </tr>\n",
       "    <tr>\n",
       "      <th>21</th>\n",
       "      <td>agolden@yahoo.com</td>\n",
       "      <td>PSC 2490, Box 2120\\nAPO AE 15445-2876</td>\n",
       "      <td>Black</td>\n",
       "      <td>33.503087</td>\n",
       "      <td>12.877984</td>\n",
       "      <td>37.441021</td>\n",
       "      <td>1.559152</td>\n",
       "      <td>419.938775</td>\n",
       "    </tr>\n",
       "    <tr>\n",
       "      <th>22</th>\n",
       "      <td>vstafford@hotmail.com</td>\n",
       "      <td>PSC 5723, Box 8159\\nAPO AA 74738</td>\n",
       "      <td>Olive</td>\n",
       "      <td>31.531604</td>\n",
       "      <td>13.378563</td>\n",
       "      <td>38.734006</td>\n",
       "      <td>2.245148</td>\n",
       "      <td>436.515606</td>\n",
       "    </tr>\n",
       "    <tr>\n",
       "      <th>23</th>\n",
       "      <td>denise22@hernandez-townsend.com</td>\n",
       "      <td>USNS Cardenas\\nFPO AA 85439-9449</td>\n",
       "      <td>Silver</td>\n",
       "      <td>32.903251</td>\n",
       "      <td>11.657576</td>\n",
       "      <td>36.772604</td>\n",
       "      <td>3.919302</td>\n",
       "      <td>519.340989</td>\n",
       "    </tr>\n",
       "    <tr>\n",
       "      <th>24</th>\n",
       "      <td>youngbarbara@yahoo.com</td>\n",
       "      <td>019 Elliott Tunnel Suite 190\\nNicholsbury, WV ...</td>\n",
       "      <td>Wheat</td>\n",
       "      <td>34.507551</td>\n",
       "      <td>12.893670</td>\n",
       "      <td>37.635756</td>\n",
       "      <td>5.705154</td>\n",
       "      <td>700.917092</td>\n",
       "    </tr>\n",
       "    <tr>\n",
       "      <th>25</th>\n",
       "      <td>william25@mcconnell.com</td>\n",
       "      <td>9495 Mary Fall Apt. 777\\nGlassport, ND 17957-5596</td>\n",
       "      <td>Teal</td>\n",
       "      <td>33.029332</td>\n",
       "      <td>11.765813</td>\n",
       "      <td>37.738525</td>\n",
       "      <td>2.721736</td>\n",
       "      <td>423.179992</td>\n",
       "    </tr>\n",
       "    <tr>\n",
       "      <th>26</th>\n",
       "      <td>ijones@schaefer-carr.net</td>\n",
       "      <td>657 Judith Crossroad\\nHancockchester, VI 75658...</td>\n",
       "      <td>Linen</td>\n",
       "      <td>33.541231</td>\n",
       "      <td>12.783892</td>\n",
       "      <td>36.430650</td>\n",
       "      <td>4.648199</td>\n",
       "      <td>619.895640</td>\n",
       "    </tr>\n",
       "    <tr>\n",
       "      <th>27</th>\n",
       "      <td>heatherhall@yahoo.com</td>\n",
       "      <td>8522 Regina Port Suite 782\\nPort Kaitlin, TX 5...</td>\n",
       "      <td>MediumSlateBlue</td>\n",
       "      <td>32.335990</td>\n",
       "      <td>13.007819</td>\n",
       "      <td>37.851779</td>\n",
       "      <td>2.996365</td>\n",
       "      <td>486.838935</td>\n",
       "    </tr>\n",
       "    <tr>\n",
       "      <th>28</th>\n",
       "      <td>tinasmith@martinez.info</td>\n",
       "      <td>40000 Ann Port Suite 474\\nYoungberg, MS 03651</td>\n",
       "      <td>LemonChiffon</td>\n",
       "      <td>33.110205</td>\n",
       "      <td>11.982045</td>\n",
       "      <td>35.293088</td>\n",
       "      <td>3.923489</td>\n",
       "      <td>529.537665</td>\n",
       "    </tr>\n",
       "    <tr>\n",
       "      <th>29</th>\n",
       "      <td>chasejennifer@hotmail.com</td>\n",
       "      <td>9507 Robert Prairie Apt. 601\\nEast Crystalview...</td>\n",
       "      <td>DarkOrchid</td>\n",
       "      <td>33.105438</td>\n",
       "      <td>11.965020</td>\n",
       "      <td>37.277812</td>\n",
       "      <td>4.742578</td>\n",
       "      <td>554.722084</td>\n",
       "    </tr>\n",
       "    <tr>\n",
       "      <th>...</th>\n",
       "      <td>...</td>\n",
       "      <td>...</td>\n",
       "      <td>...</td>\n",
       "      <td>...</td>\n",
       "      <td>...</td>\n",
       "      <td>...</td>\n",
       "      <td>...</td>\n",
       "      <td>...</td>\n",
       "    </tr>\n",
       "    <tr>\n",
       "      <th>470</th>\n",
       "      <td>kennethperry@bowen.org</td>\n",
       "      <td>272 Frederick Lodge\\nEast Andrew, FL 07414</td>\n",
       "      <td>SlateGray</td>\n",
       "      <td>32.518197</td>\n",
       "      <td>11.509253</td>\n",
       "      <td>36.599289</td>\n",
       "      <td>3.022676</td>\n",
       "      <td>424.728774</td>\n",
       "    </tr>\n",
       "    <tr>\n",
       "      <th>471</th>\n",
       "      <td>prussell@lopez.com</td>\n",
       "      <td>9985 Wolf Pass\\nBrandimouth, CA 63346</td>\n",
       "      <td>Bisque</td>\n",
       "      <td>34.523020</td>\n",
       "      <td>11.405770</td>\n",
       "      <td>36.378271</td>\n",
       "      <td>4.041245</td>\n",
       "      <td>541.049831</td>\n",
       "    </tr>\n",
       "    <tr>\n",
       "      <th>472</th>\n",
       "      <td>mosleyjacob@yahoo.com</td>\n",
       "      <td>PSC 1790, Box 8872\\nAPO AE 01821-4769</td>\n",
       "      <td>Orange</td>\n",
       "      <td>33.665990</td>\n",
       "      <td>12.263718</td>\n",
       "      <td>38.860234</td>\n",
       "      <td>3.139527</td>\n",
       "      <td>469.383146</td>\n",
       "    </tr>\n",
       "    <tr>\n",
       "      <th>473</th>\n",
       "      <td>rhaas@yahoo.com</td>\n",
       "      <td>4502 Jennifer Prairie Suite 029\\nLake Jesse, L...</td>\n",
       "      <td>DimGray</td>\n",
       "      <td>31.609840</td>\n",
       "      <td>12.710701</td>\n",
       "      <td>36.166463</td>\n",
       "      <td>2.562819</td>\n",
       "      <td>444.545550</td>\n",
       "    </tr>\n",
       "    <tr>\n",
       "      <th>474</th>\n",
       "      <td>antonioharris@hotmail.com</td>\n",
       "      <td>4307 Nicholas Drive Apt. 259\\nRamirezberg, AS ...</td>\n",
       "      <td>MediumBlue</td>\n",
       "      <td>33.700886</td>\n",
       "      <td>13.471578</td>\n",
       "      <td>37.071643</td>\n",
       "      <td>2.379076</td>\n",
       "      <td>492.556834</td>\n",
       "    </tr>\n",
       "    <tr>\n",
       "      <th>475</th>\n",
       "      <td>austinthomas@gmail.com</td>\n",
       "      <td>5855 Gross Burgs Suite 169\\nBallland, AS 98525</td>\n",
       "      <td>AntiqueWhite</td>\n",
       "      <td>33.811733</td>\n",
       "      <td>11.186809</td>\n",
       "      <td>36.298893</td>\n",
       "      <td>4.301996</td>\n",
       "      <td>535.321610</td>\n",
       "    </tr>\n",
       "    <tr>\n",
       "      <th>476</th>\n",
       "      <td>bethsullivan@reed.net</td>\n",
       "      <td>80500 Mary Corners Apt. 225\\nWallsville, ME 80526</td>\n",
       "      <td>Beige</td>\n",
       "      <td>34.336677</td>\n",
       "      <td>11.246813</td>\n",
       "      <td>38.682584</td>\n",
       "      <td>2.094762</td>\n",
       "      <td>408.958336</td>\n",
       "    </tr>\n",
       "    <tr>\n",
       "      <th>477</th>\n",
       "      <td>ncummings@yahoo.com</td>\n",
       "      <td>344 Jessica Stravenue\\nNew Brian, MA 04730-6761</td>\n",
       "      <td>Beige</td>\n",
       "      <td>31.061325</td>\n",
       "      <td>12.357638</td>\n",
       "      <td>36.166042</td>\n",
       "      <td>4.089331</td>\n",
       "      <td>487.555458</td>\n",
       "    </tr>\n",
       "    <tr>\n",
       "      <th>478</th>\n",
       "      <td>hking@hotmail.com</td>\n",
       "      <td>85181 Christian Courts Suite 758\\nLarryfurt, M...</td>\n",
       "      <td>PeachPuff</td>\n",
       "      <td>33.069768</td>\n",
       "      <td>11.764326</td>\n",
       "      <td>36.875026</td>\n",
       "      <td>3.516051</td>\n",
       "      <td>487.646232</td>\n",
       "    </tr>\n",
       "    <tr>\n",
       "      <th>479</th>\n",
       "      <td>annstone@hotmail.com</td>\n",
       "      <td>543 Reynolds Burg\\nMelindaberg, KY 46631</td>\n",
       "      <td>LightPink</td>\n",
       "      <td>34.606242</td>\n",
       "      <td>11.761884</td>\n",
       "      <td>38.126520</td>\n",
       "      <td>1.820811</td>\n",
       "      <td>402.167122</td>\n",
       "    </tr>\n",
       "    <tr>\n",
       "      <th>480</th>\n",
       "      <td>christopher44@hotmail.com</td>\n",
       "      <td>549 Anna Avenue\\nPort Laura, CA 76209-9339</td>\n",
       "      <td>WhiteSmoke</td>\n",
       "      <td>34.238242</td>\n",
       "      <td>11.550300</td>\n",
       "      <td>35.769330</td>\n",
       "      <td>4.183144</td>\n",
       "      <td>551.023002</td>\n",
       "    </tr>\n",
       "    <tr>\n",
       "      <th>481</th>\n",
       "      <td>autumn88@mendoza-mills.com</td>\n",
       "      <td>214 Obrien Lakes Suite 572\\nSouth Jeremy, KS 5...</td>\n",
       "      <td>MediumOrchid</td>\n",
       "      <td>32.047815</td>\n",
       "      <td>12.482670</td>\n",
       "      <td>35.536025</td>\n",
       "      <td>3.393903</td>\n",
       "      <td>497.389558</td>\n",
       "    </tr>\n",
       "    <tr>\n",
       "      <th>482</th>\n",
       "      <td>dhudson@ramos.net</td>\n",
       "      <td>5661 Grant Centers\\nStevensfurt, CT 53959</td>\n",
       "      <td>Olive</td>\n",
       "      <td>30.971676</td>\n",
       "      <td>11.731364</td>\n",
       "      <td>36.074551</td>\n",
       "      <td>4.426364</td>\n",
       "      <td>494.638610</td>\n",
       "    </tr>\n",
       "    <tr>\n",
       "      <th>483</th>\n",
       "      <td>egomez@hotmail.com</td>\n",
       "      <td>768 Riley Pine Apt. 624\\nKellymouth, OK 98992-...</td>\n",
       "      <td>MistyRose</td>\n",
       "      <td>33.606851</td>\n",
       "      <td>12.214074</td>\n",
       "      <td>37.198428</td>\n",
       "      <td>2.905238</td>\n",
       "      <td>479.247417</td>\n",
       "    </tr>\n",
       "    <tr>\n",
       "      <th>484</th>\n",
       "      <td>kimberlyruiz@smith-gordon.com</td>\n",
       "      <td>503 Adams Pines Apt. 638\\nNorth Ashleyside, AZ...</td>\n",
       "      <td>DarkRed</td>\n",
       "      <td>33.448125</td>\n",
       "      <td>11.903757</td>\n",
       "      <td>36.874544</td>\n",
       "      <td>2.782758</td>\n",
       "      <td>462.656519</td>\n",
       "    </tr>\n",
       "    <tr>\n",
       "      <th>485</th>\n",
       "      <td>mooremichelle@logan.com</td>\n",
       "      <td>07813 Randy Point\\nLake Thomasberg, MO 06013-9920</td>\n",
       "      <td>Pink</td>\n",
       "      <td>33.369381</td>\n",
       "      <td>12.222484</td>\n",
       "      <td>36.355235</td>\n",
       "      <td>3.447018</td>\n",
       "      <td>515.502480</td>\n",
       "    </tr>\n",
       "    <tr>\n",
       "      <th>486</th>\n",
       "      <td>aaron22@gmail.com</td>\n",
       "      <td>38678 Sean Drive Suite 293\\nKarentown, IA 7830...</td>\n",
       "      <td>DarkGray</td>\n",
       "      <td>33.452295</td>\n",
       "      <td>12.005916</td>\n",
       "      <td>36.534096</td>\n",
       "      <td>4.712234</td>\n",
       "      <td>576.477607</td>\n",
       "    </tr>\n",
       "    <tr>\n",
       "      <th>487</th>\n",
       "      <td>michelleshepherd@price.com</td>\n",
       "      <td>6820 Erica Vista Apt. 418\\nBrightside, IA 50639</td>\n",
       "      <td>Orchid</td>\n",
       "      <td>32.904692</td>\n",
       "      <td>11.913745</td>\n",
       "      <td>36.058648</td>\n",
       "      <td>1.228112</td>\n",
       "      <td>357.857984</td>\n",
       "    </tr>\n",
       "    <tr>\n",
       "      <th>488</th>\n",
       "      <td>zscott@wright.com</td>\n",
       "      <td>9909 Hoffman Ranch Suite 195\\nScotthaven, SC 5...</td>\n",
       "      <td>PeachPuff</td>\n",
       "      <td>35.630854</td>\n",
       "      <td>12.125402</td>\n",
       "      <td>38.187764</td>\n",
       "      <td>4.019051</td>\n",
       "      <td>597.739879</td>\n",
       "    </tr>\n",
       "    <tr>\n",
       "      <th>489</th>\n",
       "      <td>tracy79@wheeler.net</td>\n",
       "      <td>513 Moore Crescent Apt. 416\\nAmandaberg, GU 03...</td>\n",
       "      <td>Magenta</td>\n",
       "      <td>32.246350</td>\n",
       "      <td>11.305551</td>\n",
       "      <td>37.133127</td>\n",
       "      <td>1.707390</td>\n",
       "      <td>327.377953</td>\n",
       "    </tr>\n",
       "    <tr>\n",
       "      <th>490</th>\n",
       "      <td>brian28@sanchez.org</td>\n",
       "      <td>7446 Mary Ferry\\nLake Sherryfurt, GA 49066-0207</td>\n",
       "      <td>GhostWhite</td>\n",
       "      <td>34.695591</td>\n",
       "      <td>11.608997</td>\n",
       "      <td>37.684877</td>\n",
       "      <td>3.163092</td>\n",
       "      <td>510.401388</td>\n",
       "    </tr>\n",
       "    <tr>\n",
       "      <th>491</th>\n",
       "      <td>leonardhancock@hotmail.com</td>\n",
       "      <td>64147 Alexander Station Apt. 474\\nEast Jasonvi...</td>\n",
       "      <td>SeaShell</td>\n",
       "      <td>34.343922</td>\n",
       "      <td>11.693058</td>\n",
       "      <td>36.812934</td>\n",
       "      <td>3.447093</td>\n",
       "      <td>510.501478</td>\n",
       "    </tr>\n",
       "    <tr>\n",
       "      <th>492</th>\n",
       "      <td>davidsonkathleen@gmail.com</td>\n",
       "      <td>70128 Zimmerman Overpass\\nRobertsshire, VA 59860</td>\n",
       "      <td>DarkBlue</td>\n",
       "      <td>33.680937</td>\n",
       "      <td>11.201570</td>\n",
       "      <td>37.835448</td>\n",
       "      <td>2.208814</td>\n",
       "      <td>403.819520</td>\n",
       "    </tr>\n",
       "    <tr>\n",
       "      <th>493</th>\n",
       "      <td>nathan84@lowery.net</td>\n",
       "      <td>01242 Stephanie Ways Suite 003\\nChurchville, M...</td>\n",
       "      <td>MediumSeaGreen</td>\n",
       "      <td>32.060914</td>\n",
       "      <td>12.625433</td>\n",
       "      <td>35.539142</td>\n",
       "      <td>5.412358</td>\n",
       "      <td>627.603319</td>\n",
       "    </tr>\n",
       "    <tr>\n",
       "      <th>494</th>\n",
       "      <td>kellydeborah@chan.biz</td>\n",
       "      <td>354 Sanchez Wall Suite 884\\nJuliabury, VI 39735</td>\n",
       "      <td>DarkTurquoise</td>\n",
       "      <td>33.431097</td>\n",
       "      <td>13.350632</td>\n",
       "      <td>37.965972</td>\n",
       "      <td>2.768852</td>\n",
       "      <td>510.661792</td>\n",
       "    </tr>\n",
       "    <tr>\n",
       "      <th>495</th>\n",
       "      <td>lewisjessica@craig-evans.com</td>\n",
       "      <td>4483 Jones Motorway Suite 872\\nLake Jamiefurt,...</td>\n",
       "      <td>Tan</td>\n",
       "      <td>33.237660</td>\n",
       "      <td>13.566160</td>\n",
       "      <td>36.417985</td>\n",
       "      <td>3.746573</td>\n",
       "      <td>573.847438</td>\n",
       "    </tr>\n",
       "    <tr>\n",
       "      <th>496</th>\n",
       "      <td>katrina56@gmail.com</td>\n",
       "      <td>172 Owen Divide Suite 497\\nWest Richard, CA 19320</td>\n",
       "      <td>PaleVioletRed</td>\n",
       "      <td>34.702529</td>\n",
       "      <td>11.695736</td>\n",
       "      <td>37.190268</td>\n",
       "      <td>3.576526</td>\n",
       "      <td>529.049004</td>\n",
       "    </tr>\n",
       "    <tr>\n",
       "      <th>497</th>\n",
       "      <td>dale88@hotmail.com</td>\n",
       "      <td>0787 Andrews Ranch Apt. 633\\nSouth Chadburgh, ...</td>\n",
       "      <td>Cornsilk</td>\n",
       "      <td>32.646777</td>\n",
       "      <td>11.499409</td>\n",
       "      <td>38.332576</td>\n",
       "      <td>4.958264</td>\n",
       "      <td>551.620145</td>\n",
       "    </tr>\n",
       "    <tr>\n",
       "      <th>498</th>\n",
       "      <td>cwilson@hotmail.com</td>\n",
       "      <td>680 Jennifer Lodge Apt. 808\\nBrendachester, TX...</td>\n",
       "      <td>Teal</td>\n",
       "      <td>33.322501</td>\n",
       "      <td>12.391423</td>\n",
       "      <td>36.840086</td>\n",
       "      <td>2.336485</td>\n",
       "      <td>456.469510</td>\n",
       "    </tr>\n",
       "    <tr>\n",
       "      <th>499</th>\n",
       "      <td>hannahwilson@davidson.com</td>\n",
       "      <td>49791 Rachel Heights Apt. 898\\nEast Drewboroug...</td>\n",
       "      <td>DarkMagenta</td>\n",
       "      <td>33.715981</td>\n",
       "      <td>12.418808</td>\n",
       "      <td>35.771016</td>\n",
       "      <td>2.735160</td>\n",
       "      <td>497.778642</td>\n",
       "    </tr>\n",
       "  </tbody>\n",
       "</table>\n",
       "<p>500 rows × 8 columns</p>\n",
       "</div>"
      ],
      "text/plain": [
       "                               Email  \\\n",
       "0          mstephenson@fernandez.com   \n",
       "1                  hduke@hotmail.com   \n",
       "2                   pallen@yahoo.com   \n",
       "3            riverarebecca@gmail.com   \n",
       "4      mstephens@davidson-herman.com   \n",
       "5             alvareznancy@lucas.biz   \n",
       "6              katherine20@yahoo.com   \n",
       "7                 awatkins@yahoo.com   \n",
       "8        vchurch@walter-martinez.com   \n",
       "9                   bonnie69@lin.biz   \n",
       "10             andrew06@peterson.com   \n",
       "11            ryanwerner@freeman.biz   \n",
       "12                 knelson@gmail.com   \n",
       "13             wrightpeter@yahoo.com   \n",
       "14             taylormason@gmail.com   \n",
       "15               jstark@anderson.com   \n",
       "16               wjennings@gmail.com   \n",
       "17          rebecca45@hale-bauer.biz   \n",
       "18           alejandro75@hotmail.com   \n",
       "19            samuel46@love-west.net   \n",
       "20                 megan33@gmail.com   \n",
       "21                 agolden@yahoo.com   \n",
       "22             vstafford@hotmail.com   \n",
       "23   denise22@hernandez-townsend.com   \n",
       "24            youngbarbara@yahoo.com   \n",
       "25           william25@mcconnell.com   \n",
       "26          ijones@schaefer-carr.net   \n",
       "27             heatherhall@yahoo.com   \n",
       "28           tinasmith@martinez.info   \n",
       "29         chasejennifer@hotmail.com   \n",
       "..                               ...   \n",
       "470           kennethperry@bowen.org   \n",
       "471               prussell@lopez.com   \n",
       "472            mosleyjacob@yahoo.com   \n",
       "473                  rhaas@yahoo.com   \n",
       "474        antonioharris@hotmail.com   \n",
       "475           austinthomas@gmail.com   \n",
       "476            bethsullivan@reed.net   \n",
       "477              ncummings@yahoo.com   \n",
       "478                hking@hotmail.com   \n",
       "479             annstone@hotmail.com   \n",
       "480        christopher44@hotmail.com   \n",
       "481       autumn88@mendoza-mills.com   \n",
       "482                dhudson@ramos.net   \n",
       "483               egomez@hotmail.com   \n",
       "484    kimberlyruiz@smith-gordon.com   \n",
       "485          mooremichelle@logan.com   \n",
       "486                aaron22@gmail.com   \n",
       "487       michelleshepherd@price.com   \n",
       "488                zscott@wright.com   \n",
       "489              tracy79@wheeler.net   \n",
       "490              brian28@sanchez.org   \n",
       "491       leonardhancock@hotmail.com   \n",
       "492       davidsonkathleen@gmail.com   \n",
       "493              nathan84@lowery.net   \n",
       "494            kellydeborah@chan.biz   \n",
       "495     lewisjessica@craig-evans.com   \n",
       "496              katrina56@gmail.com   \n",
       "497               dale88@hotmail.com   \n",
       "498              cwilson@hotmail.com   \n",
       "499        hannahwilson@davidson.com   \n",
       "\n",
       "                                               Address            Avatar  \\\n",
       "0         835 Frank Tunnel\\nWrightmouth, MI 82180-9605            Violet   \n",
       "1       4547 Archer Common\\nDiazchester, CA 06566-8576         DarkGreen   \n",
       "2    24645 Valerie Unions Suite 582\\nCobbborough, D...            Bisque   \n",
       "3     1414 David Throughway\\nPort Jason, OH 22070-1220       SaddleBrown   \n",
       "4    14023 Rodriguez Passage\\nPort Jacobville, PR 3...  MediumAquaMarine   \n",
       "5    645 Martha Park Apt. 611\\nJeffreychester, MN 6...       FloralWhite   \n",
       "6    68388 Reyes Lights Suite 692\\nJosephbury, WV 9...     DarkSlateBlue   \n",
       "7                Unit 6538 Box 8980\\nDPO AP 09026-4941              Aqua   \n",
       "8               860 Lee Key\\nWest Debra, SD 97450-0495            Salmon   \n",
       "9                PSC 2734, Box 5255\\nAPO AA 98456-7482             Brown   \n",
       "10   26104 Alexander Groves\\nAlexandriaport, WY 282...            Tomato   \n",
       "11               Unit 2413 Box 0347\\nDPO AA 07580-2652            Tomato   \n",
       "12   6705 Miller Orchard Suite 186\\nLake Shanestad,...         RoyalBlue   \n",
       "13    05302 Dunlap Ferry\\nNew Stephaniehaven, MP 42268            Bisque   \n",
       "14   7773 Powell Springs Suite 190\\nSamanthaland, N...          DarkBlue   \n",
       "15   49558 Ramirez Road Suite 399\\nPhillipstad, OH ...              Peru   \n",
       "16         6362 Wilson Mountain\\nJohnsonfurt, GA 15169        PowderBlue   \n",
       "17                8982 Burton Row\\nWilsonton, PW 88606         OliveDrab   \n",
       "18   64475 Andre Club Apt. 795\\nPort Dannytown, PW ...              Cyan   \n",
       "19   544 Alexander Heights Suite 768\\nNorth Johnvie...     LightSeaGreen   \n",
       "20           84426 Julia Vista\\nNorth Teresa, KY 50756         PeachPuff   \n",
       "21               PSC 2490, Box 2120\\nAPO AE 15445-2876             Black   \n",
       "22                    PSC 5723, Box 8159\\nAPO AA 74738             Olive   \n",
       "23                    USNS Cardenas\\nFPO AA 85439-9449            Silver   \n",
       "24   019 Elliott Tunnel Suite 190\\nNicholsbury, WV ...             Wheat   \n",
       "25   9495 Mary Fall Apt. 777\\nGlassport, ND 17957-5596              Teal   \n",
       "26   657 Judith Crossroad\\nHancockchester, VI 75658...             Linen   \n",
       "27   8522 Regina Port Suite 782\\nPort Kaitlin, TX 5...   MediumSlateBlue   \n",
       "28       40000 Ann Port Suite 474\\nYoungberg, MS 03651      LemonChiffon   \n",
       "29   9507 Robert Prairie Apt. 601\\nEast Crystalview...        DarkOrchid   \n",
       "..                                                 ...               ...   \n",
       "470         272 Frederick Lodge\\nEast Andrew, FL 07414         SlateGray   \n",
       "471              9985 Wolf Pass\\nBrandimouth, CA 63346            Bisque   \n",
       "472              PSC 1790, Box 8872\\nAPO AE 01821-4769            Orange   \n",
       "473  4502 Jennifer Prairie Suite 029\\nLake Jesse, L...           DimGray   \n",
       "474  4307 Nicholas Drive Apt. 259\\nRamirezberg, AS ...        MediumBlue   \n",
       "475     5855 Gross Burgs Suite 169\\nBallland, AS 98525      AntiqueWhite   \n",
       "476  80500 Mary Corners Apt. 225\\nWallsville, ME 80526             Beige   \n",
       "477    344 Jessica Stravenue\\nNew Brian, MA 04730-6761             Beige   \n",
       "478  85181 Christian Courts Suite 758\\nLarryfurt, M...         PeachPuff   \n",
       "479           543 Reynolds Burg\\nMelindaberg, KY 46631         LightPink   \n",
       "480         549 Anna Avenue\\nPort Laura, CA 76209-9339        WhiteSmoke   \n",
       "481  214 Obrien Lakes Suite 572\\nSouth Jeremy, KS 5...      MediumOrchid   \n",
       "482          5661 Grant Centers\\nStevensfurt, CT 53959             Olive   \n",
       "483  768 Riley Pine Apt. 624\\nKellymouth, OK 98992-...         MistyRose   \n",
       "484  503 Adams Pines Apt. 638\\nNorth Ashleyside, AZ...           DarkRed   \n",
       "485  07813 Randy Point\\nLake Thomasberg, MO 06013-9920              Pink   \n",
       "486  38678 Sean Drive Suite 293\\nKarentown, IA 7830...          DarkGray   \n",
       "487    6820 Erica Vista Apt. 418\\nBrightside, IA 50639            Orchid   \n",
       "488  9909 Hoffman Ranch Suite 195\\nScotthaven, SC 5...         PeachPuff   \n",
       "489  513 Moore Crescent Apt. 416\\nAmandaberg, GU 03...           Magenta   \n",
       "490    7446 Mary Ferry\\nLake Sherryfurt, GA 49066-0207        GhostWhite   \n",
       "491  64147 Alexander Station Apt. 474\\nEast Jasonvi...          SeaShell   \n",
       "492   70128 Zimmerman Overpass\\nRobertsshire, VA 59860          DarkBlue   \n",
       "493  01242 Stephanie Ways Suite 003\\nChurchville, M...    MediumSeaGreen   \n",
       "494    354 Sanchez Wall Suite 884\\nJuliabury, VI 39735     DarkTurquoise   \n",
       "495  4483 Jones Motorway Suite 872\\nLake Jamiefurt,...               Tan   \n",
       "496  172 Owen Divide Suite 497\\nWest Richard, CA 19320     PaleVioletRed   \n",
       "497  0787 Andrews Ranch Apt. 633\\nSouth Chadburgh, ...          Cornsilk   \n",
       "498  680 Jennifer Lodge Apt. 808\\nBrendachester, TX...              Teal   \n",
       "499  49791 Rachel Heights Apt. 898\\nEast Drewboroug...       DarkMagenta   \n",
       "\n",
       "     Avg. Session Length  Time on App  Time on Website  Length of Membership  \\\n",
       "0              34.497268    12.655651        39.577668              4.082621   \n",
       "1              31.926272    11.109461        37.268959              2.664034   \n",
       "2              33.000915    11.330278        37.110597              4.104543   \n",
       "3              34.305557    13.717514        36.721283              3.120179   \n",
       "4              33.330673    12.795189        37.536653              4.446308   \n",
       "5              33.871038    12.026925        34.476878              5.493507   \n",
       "6              32.021596    11.366348        36.683776              4.685017   \n",
       "7              32.739143    12.351959        37.373359              4.434273   \n",
       "8              33.987773    13.386235        37.534497              3.273434   \n",
       "9              31.936549    11.814128        37.145168              3.202806   \n",
       "10             33.992573    13.338975        37.225806              2.482608   \n",
       "11             33.879361    11.584783        37.087926              3.713209   \n",
       "12             29.532429    10.961298        37.420216              4.046423   \n",
       "13             33.190334    12.959226        36.144667              3.918542   \n",
       "14             32.387976    13.148726        36.619957              2.494544   \n",
       "15             30.737720    12.636606        36.213763              3.357847   \n",
       "16             32.125387    11.733862        34.894093              3.136133   \n",
       "17             32.338899    12.013195        38.385137              2.420806   \n",
       "18             32.187812    14.715388        38.244115              1.516576   \n",
       "19             32.617856    13.989593        37.190504              4.064549   \n",
       "20             32.912785    11.365492        37.607793              4.599937   \n",
       "21             33.503087    12.877984        37.441021              1.559152   \n",
       "22             31.531604    13.378563        38.734006              2.245148   \n",
       "23             32.903251    11.657576        36.772604              3.919302   \n",
       "24             34.507551    12.893670        37.635756              5.705154   \n",
       "25             33.029332    11.765813        37.738525              2.721736   \n",
       "26             33.541231    12.783892        36.430650              4.648199   \n",
       "27             32.335990    13.007819        37.851779              2.996365   \n",
       "28             33.110205    11.982045        35.293088              3.923489   \n",
       "29             33.105438    11.965020        37.277812              4.742578   \n",
       "..                   ...          ...              ...                   ...   \n",
       "470            32.518197    11.509253        36.599289              3.022676   \n",
       "471            34.523020    11.405770        36.378271              4.041245   \n",
       "472            33.665990    12.263718        38.860234              3.139527   \n",
       "473            31.609840    12.710701        36.166463              2.562819   \n",
       "474            33.700886    13.471578        37.071643              2.379076   \n",
       "475            33.811733    11.186809        36.298893              4.301996   \n",
       "476            34.336677    11.246813        38.682584              2.094762   \n",
       "477            31.061325    12.357638        36.166042              4.089331   \n",
       "478            33.069768    11.764326        36.875026              3.516051   \n",
       "479            34.606242    11.761884        38.126520              1.820811   \n",
       "480            34.238242    11.550300        35.769330              4.183144   \n",
       "481            32.047815    12.482670        35.536025              3.393903   \n",
       "482            30.971676    11.731364        36.074551              4.426364   \n",
       "483            33.606851    12.214074        37.198428              2.905238   \n",
       "484            33.448125    11.903757        36.874544              2.782758   \n",
       "485            33.369381    12.222484        36.355235              3.447018   \n",
       "486            33.452295    12.005916        36.534096              4.712234   \n",
       "487            32.904692    11.913745        36.058648              1.228112   \n",
       "488            35.630854    12.125402        38.187764              4.019051   \n",
       "489            32.246350    11.305551        37.133127              1.707390   \n",
       "490            34.695591    11.608997        37.684877              3.163092   \n",
       "491            34.343922    11.693058        36.812934              3.447093   \n",
       "492            33.680937    11.201570        37.835448              2.208814   \n",
       "493            32.060914    12.625433        35.539142              5.412358   \n",
       "494            33.431097    13.350632        37.965972              2.768852   \n",
       "495            33.237660    13.566160        36.417985              3.746573   \n",
       "496            34.702529    11.695736        37.190268              3.576526   \n",
       "497            32.646777    11.499409        38.332576              4.958264   \n",
       "498            33.322501    12.391423        36.840086              2.336485   \n",
       "499            33.715981    12.418808        35.771016              2.735160   \n",
       "\n",
       "     Yearly Amount Spent  \n",
       "0             587.951054  \n",
       "1             392.204933  \n",
       "2             487.547505  \n",
       "3             581.852344  \n",
       "4             599.406092  \n",
       "5             637.102448  \n",
       "6             521.572175  \n",
       "7             549.904146  \n",
       "8             570.200409  \n",
       "9             427.199385  \n",
       "10            492.606013  \n",
       "11            522.337405  \n",
       "12            408.640351  \n",
       "13            573.415867  \n",
       "14            470.452733  \n",
       "15            461.780742  \n",
       "16            457.847696  \n",
       "17            407.704548  \n",
       "18            452.315675  \n",
       "19            605.061039  \n",
       "20            534.705744  \n",
       "21            419.938775  \n",
       "22            436.515606  \n",
       "23            519.340989  \n",
       "24            700.917092  \n",
       "25            423.179992  \n",
       "26            619.895640  \n",
       "27            486.838935  \n",
       "28            529.537665  \n",
       "29            554.722084  \n",
       "..                   ...  \n",
       "470           424.728774  \n",
       "471           541.049831  \n",
       "472           469.383146  \n",
       "473           444.545550  \n",
       "474           492.556834  \n",
       "475           535.321610  \n",
       "476           408.958336  \n",
       "477           487.555458  \n",
       "478           487.646232  \n",
       "479           402.167122  \n",
       "480           551.023002  \n",
       "481           497.389558  \n",
       "482           494.638610  \n",
       "483           479.247417  \n",
       "484           462.656519  \n",
       "485           515.502480  \n",
       "486           576.477607  \n",
       "487           357.857984  \n",
       "488           597.739879  \n",
       "489           327.377953  \n",
       "490           510.401388  \n",
       "491           510.501478  \n",
       "492           403.819520  \n",
       "493           627.603319  \n",
       "494           510.661792  \n",
       "495           573.847438  \n",
       "496           529.049004  \n",
       "497           551.620145  \n",
       "498           456.469510  \n",
       "499           497.778642  \n",
       "\n",
       "[500 rows x 8 columns]"
      ]
     },
     "execution_count": 186,
     "metadata": {},
     "output_type": "execute_result"
    }
   ],
   "source": [
    "ecom"
   ]
  },
  {
   "cell_type": "markdown",
   "metadata": {},
   "source": [
    "**19. How can you interpret these coefficients? **\n",
    "10pts"
   ]
  },
  {
   "cell_type": "code",
   "execution_count": 180,
   "metadata": {},
   "outputs": [
    {
     "data": {
      "text/markdown": [
       "It seems like the **Yearly Amount Spent** depend mostly on the **Length of Membership, Avg Session Length, and the Time on App**. Specifically, the **Length of Membership** has the most impact on the **Yearly Amount Spent**"
      ],
      "text/plain": [
       "<IPython.core.display.Markdown object>"
      ]
     },
     "metadata": {},
     "output_type": "display_data"
    }
   ],
   "source": [
    "display(Markdown(\"It seems like the **Yearly Amount Spent** depend mostly on the **Length of Membership, Avg Session Length, and the Time on App**. Specifically, the **Length of Membership** has the most impact on the **Yearly Amount Spent**\"))"
   ]
  },
  {
   "cell_type": "markdown",
   "metadata": {},
   "source": [
    "Answer here"
   ]
  },
  {
   "cell_type": "markdown",
   "metadata": {},
   "source": [
    "**20. Do you think the company should focus more on their mobile app or on their website?**\n",
    "10pts"
   ]
  },
  {
   "cell_type": "code",
   "execution_count": 183,
   "metadata": {},
   "outputs": [
    {
     "data": {
      "text/markdown": [
       "I think the company should focus more on their **mobile app** since it has **greater impact** on the **Yearly Amount Spent**."
      ],
      "text/plain": [
       "<IPython.core.display.Markdown object>"
      ]
     },
     "metadata": {},
     "output_type": "display_data"
    }
   ],
   "source": [
    "display(Markdown(\"I think the company should focus more on their **mobile app** since it has **greater impact** on the **Yearly Amount Spent**.\"))"
   ]
  },
  {
   "cell_type": "markdown",
   "metadata": {},
   "source": [
    "Answer here"
   ]
  },
  {
   "cell_type": "markdown",
   "metadata": {},
   "source": [
    "## Great Job!\n",
    "\n",
    "Congrats on your contract work! The company loved the insights! Let's move on."
   ]
  }
 ],
 "metadata": {
  "kernelspec": {
   "display_name": "Python 3",
   "language": "python",
   "name": "python3"
  },
  "language_info": {
   "codemirror_mode": {
    "name": "ipython",
    "version": 3
   },
   "file_extension": ".py",
   "mimetype": "text/x-python",
   "name": "python",
   "nbconvert_exporter": "python",
   "pygments_lexer": "ipython3",
   "version": "3.7.0"
  }
 },
 "nbformat": 4,
 "nbformat_minor": 1
}
